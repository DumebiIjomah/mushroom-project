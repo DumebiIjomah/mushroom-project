{
  "cells": [
    {
      "cell_type": "markdown",
      "source": [
        "# Import necessary Libraries"
      ],
      "metadata": {
        "id": "xlduy2ZE6HhD"
      }
    },
    {
      "cell_type": "code",
      "source": [
        "import pandas as pd\n",
        "import numpy as np\n",
        "import seaborn as sns\n",
        "import matplotlib.pyplot as plt\n",
        "from sklearn.preprocessing import LabelEncoder\n",
        "from sklearn.model_selection import train_test_split\n",
        "import tensorflow as tf\n",
        "from tensorflow.keras.preprocessing.text import Tokenizer\n",
        "from tensorflow.keras.preprocessing.sequence import pad_sequences\n",
        "from tensorflow.keras.models import Sequential\n",
        "from tensorflow.keras.layers import Embedding, GlobalAveragePooling1D, Dense"
      ],
      "metadata": {
        "id": "ZpbCcTaS6HHz"
      },
      "execution_count": null,
      "outputs": []
    },
    {
      "cell_type": "markdown",
      "source": [
        "# Load and Prepare the Mushroom Dataset"
      ],
      "metadata": {
        "id": "gUmC_BUw6Poz"
      }
    },
    {
      "cell_type": "code",
      "source": [
        "dataset_link = \"https://raw.githubusercontent.com/massudavide/Mushroom-Dataset/refs/heads/master/mushroom_data_all.csv\"\n",
        "try:\n",
        "    df = pd.read_csv(dataset_link)\n",
        "    print(\"Mushroom dataset loaded successfully!\")\n",
        "except FileNotFoundError:\n",
        "    print(\"Error: 'mushrooms.csv' not found. Please update the file path.\")"
      ],
      "metadata": {
        "colab": {
          "base_uri": "https://localhost:8080/"
        },
        "id": "y3mVQYpS6T78",
        "outputId": "6320587c-d41c-43d1-a26b-e19b8de3d9a7"
      },
      "execution_count": null,
      "outputs": [
        {
          "output_type": "stream",
          "name": "stdout",
          "text": [
            "Mushroom dataset loaded successfully!\n"
          ]
        }
      ]
    },
    {
      "cell_type": "markdown",
      "source": [
        "# Exploratory Data Analysis (EDA) & Preprocessing"
      ],
      "metadata": {
        "id": "mWbJ9q7T6rBD"
      }
    },
    {
      "cell_type": "code",
      "source": [
        "# Check for missing values\n",
        "print(\"\\nMissing values in each column:\")\n",
        "print(df.isnull().sum())"
      ],
      "metadata": {
        "colab": {
          "base_uri": "https://localhost:8080/"
        },
        "id": "ijr2gqqy6srR",
        "outputId": "13b8ecb9-fb70-45ea-c830-bfeb6abe0966"
      },
      "execution_count": null,
      "outputs": [
        {
          "output_type": "stream",
          "name": "stdout",
          "text": [
            "\n",
            "Missing values in each column:\n",
            "class_edible                0\n",
            "cap-shape                   0\n",
            "cap-surface                 0\n",
            "cap-color                   0\n",
            "bruises                     0\n",
            "odor                        0\n",
            "gill-attachment             0\n",
            "gill-spacing                0\n",
            "gill-size                   0\n",
            "gill-color                  0\n",
            "stalk-shape                 0\n",
            "stalk-root                  0\n",
            "stalk-surface-above-ring    0\n",
            "stalk-surface-below-ring    0\n",
            "stalk-color-above-ring      0\n",
            "stalk-color-below-ring      0\n",
            "veil-type                   0\n",
            "veil-color                  0\n",
            "ring-number                 0\n",
            "ring-type                   0\n",
            "spore-print-color           0\n",
            "population                  0\n",
            "habitat                     0\n",
            "dtype: int64\n"
          ]
        }
      ]
    },
    {
      "cell_type": "markdown",
      "source": [
        "There are no missing values in the dataset."
      ],
      "metadata": {
        "id": "FILEuIN27dm-"
      }
    },
    {
      "cell_type": "code",
      "source": [
        "# checking for values in each column/feature\n",
        "for col in df.columns:\n",
        "    print(col,\":\",df[col].unique())"
      ],
      "metadata": {
        "colab": {
          "base_uri": "https://localhost:8080/"
        },
        "id": "ZFwoFGH57cfB",
        "outputId": "8dafb010-cd26-4020-b7e4-376ac417258b"
      },
      "execution_count": null,
      "outputs": [
        {
          "output_type": "stream",
          "name": "stdout",
          "text": [
            "class_edible : ['p' 'e']\n",
            "cap-shape : ['x' 'b' 's' 'f' 'k' 'c']\n",
            "cap-surface : ['s' 'y' 'f' 'g']\n",
            "cap-color : ['n' 'y' 'w' 'g' 'e' 'p' 'b' 'u' 'c' 'r']\n",
            "bruises : ['t' 'f']\n",
            "odor : ['p' 'a' 'l' 'n' 'f' 'c' 'y' 's' 'm']\n",
            "gill-attachment : ['f' 'a']\n",
            "gill-spacing : ['c' 'w']\n",
            "gill-size : ['n' 'b']\n",
            "gill-color : ['k' 'n' 'g' 'p' 'w' 'h' 'u' 'e' 'b' 'r' 'y' 'o']\n",
            "stalk-shape : ['e' 't']\n",
            "stalk-root : ['e' 'c' 'b' 'r' '?']\n",
            "stalk-surface-above-ring : ['s' 'f' 'k' 'y']\n",
            "stalk-surface-below-ring : ['s' 'f' 'y' 'k']\n",
            "stalk-color-above-ring : ['w' 'g' 'p' 'n' 'b' 'e' 'o' 'c' 'y']\n",
            "stalk-color-below-ring : ['w' 'p' 'g' 'b' 'n' 'e' 'y' 'o' 'c']\n",
            "veil-type : ['p']\n",
            "veil-color : ['w' 'n' 'o' 'y']\n",
            "ring-number : ['o' 't' 'n']\n",
            "ring-type : ['p' 'e' 'l' 'f' 'n']\n",
            "spore-print-color : ['k' 'n' 'u' 'h' 'w' 'r' 'o' 'y' 'b']\n",
            "population : ['s' 'n' 'a' 'v' 'y' 'c']\n",
            "habitat : ['u' 'g' 'm' 'd' 'p' 'w' 'l']\n"
          ]
        }
      ]
    },
    {
      "cell_type": "markdown",
      "source": [
        "Observations:\n",
        "1.   It can be seen that `stalk-root` has a value `?`, it seems like a placeholder for missing data.\n",
        "2.    `veil-type` has only one value, therefoe it provides no predictive information. It is reasonable to drop this column."
      ],
      "metadata": {
        "id": "uBtIWDdxfHY-"
      }
    },
    {
      "cell_type": "code",
      "source": [
        "# Count the number of '?' in 'stalk-root'\n",
        "print(f\"\\nNumber of '?' in 'stalk-root': {df['stalk-root'].value_counts()['?']}\")\n",
        "print(f\"Percentage of '?' in 'stalk-root': {df['stalk-root'].value_counts()['?']/len(df['stalk-root'])*100:.2f}%\")"
      ],
      "metadata": {
        "colab": {
          "base_uri": "https://localhost:8080/"
        },
        "id": "gD42z4hI8oPc",
        "outputId": "0e9a9b74-18d9-4109-e95c-c9d01c7ea16d"
      },
      "execution_count": null,
      "outputs": [
        {
          "output_type": "stream",
          "name": "stdout",
          "text": [
            "\n",
            "Number of '?' in 'stalk-root': 2480\n",
            "Percentage of '?' in 'stalk-root': 30.53%\n"
          ]
        }
      ]
    },
    {
      "cell_type": "markdown",
      "source": [
        "Since `stalk-root` has only 30.53% of missing data, I will replace `?` with the most frequent value (mode) in this feature.\n",
        "\n",
        "Note: If more than 50% of the data would have been missing from `stalk-root`, we could have dropped this column as well."
      ],
      "metadata": {
        "id": "-zK72H0R7qWH"
      }
    },
    {
      "cell_type": "code",
      "source": [
        "# I am going to replace '?' with the mode (most frequent item) of the column.\n",
        "stalk_root_mode = df['stalk-root'].mode()[0]\n",
        "df['stalk-root'] = df['stalk-root'].replace('?', stalk_root_mode)"
      ],
      "metadata": {
        "id": "-SwikqtO9GpN"
      },
      "execution_count": null,
      "outputs": []
    },
    {
      "cell_type": "code",
      "source": [
        "# Checking the unique values in 'stalk-root' column after replacing '?'\n",
        "print(\"\\nUnique values in 'stalk-root' column after replacing '?':\")\n",
        "print(df['stalk-root'].unique())"
      ],
      "metadata": {
        "colab": {
          "base_uri": "https://localhost:8080/"
        },
        "id": "vA3Wsjt59Js5",
        "outputId": "8c18b013-f4b2-4c8b-d1bd-f49a35aa722b"
      },
      "execution_count": null,
      "outputs": [
        {
          "output_type": "stream",
          "name": "stdout",
          "text": [
            "\n",
            "Unique values in 'stalk-root' column after replacing '?':\n",
            "['e' 'c' 'b' 'r']\n"
          ]
        }
      ]
    },
    {
      "cell_type": "code",
      "source": [
        "# Drop 'veil-type' as it has only one value and provides no predictive information.\n",
        "df.drop('veil-type', axis=1, inplace=True)\n",
        "print(\"'veil-type' column has been dropped.\")"
      ],
      "metadata": {
        "colab": {
          "base_uri": "https://localhost:8080/"
        },
        "id": "bffwq6po9R6B",
        "outputId": "8ed0af94-fa15-4c16-b2e3-89353fa3e8b2"
      },
      "execution_count": null,
      "outputs": [
        {
          "output_type": "stream",
          "name": "stdout",
          "text": [
            "'veil-type' column has been dropped.\n"
          ]
        }
      ]
    },
    {
      "cell_type": "markdown",
      "source": [
        "# Model Training"
      ],
      "metadata": {
        "id": "GkauKuJGbSv3"
      }
    },
    {
      "cell_type": "code",
      "source": [
        "# Create \"DNA\" sentences with unique \"genes\"\n",
        "# Each feature-value pair becomes a unique token (e.g., 'odor_p')\n",
        "def create_dna_sentence(row):\n",
        "    # Use a short prefix for each column to keep tokens manageable. Tokens are the words converted to Numbers.\n",
        "    # For example, 'cap-shape' becomes 'cs'\n",
        "    prefixes = {col: ''.join([word[0] for word in col.split('-')]) for col in row.index}\n",
        "\n",
        "    # Create a list of \"genes\" like ['cs_x', 'cs_s', 'cc_n', ...]\n",
        "    genes = [f\"{prefixes[col]}_{val}\" for col, val in row.items()]\n",
        "\n",
        "    # Join them into a space-separated string\n",
        "    return \" \".join(genes)\n",
        "\n",
        "# Apply this function to every row\n",
        "df['dna_sentence'] = df.apply(create_dna_sentence, axis=1)\n",
        "\n",
        "\n",
        "# Prepare the target variable (0 for edible, 1 for poisonous)\n",
        "le = LabelEncoder()\n",
        "df['class_encoded'] = le.fit_transform(df['class_edible'])\n",
        "\n",
        "\n",
        "# Tokenize the \"DNA\" Sentences\n",
        "dna_sentences = df['dna_sentence'].values\n",
        "labels = df['class_encoded'].values\n",
        "\n",
        "# Create a word-level tokenizer (it splits by spaces)\n",
        "tokenizer = Tokenizer()\n",
        "tokenizer.fit_on_texts(dna_sentences)\n",
        "\n",
        "# Convert sentences to sequences of integers\n",
        "sequences = tokenizer.texts_to_sequences(dna_sentences)\n",
        "\n",
        "# Pad sequences to ensure they all have the same length\n",
        "max_length = len(sequences[0])\n",
        "padded_sequences = pad_sequences(sequences, maxlen=max_length, padding='post')\n",
        "\n",
        "\n",
        "# Split Data for Training and Testing\n",
        "X_train, X_test, y_train, y_test = train_test_split(padded_sequences, labels, test_size=0.3, random_state=42)\n",
        "\n",
        "\n",
        "# Build and Train the Embedding Model\n",
        "# The vocabulary size is now the number of unique \"genes\"\n",
        "vocab_size = len(tokenizer.word_index) + 1\n",
        "embedding_dim = 16\n",
        "\n",
        "model = Sequential([\n",
        "    # This layer now learns a vector for each unique \"gene\" (e.g., 'odor_p')\n",
        "    Embedding(input_dim=vocab_size, output_dim=embedding_dim, input_length=max_length),\n",
        "    GlobalAveragePooling1D(),\n",
        "    Dense(24, activation='relu'),\n",
        "    Dense(1, activation='sigmoid')\n",
        "])\n",
        "\n",
        "model.compile(optimizer='adam',\n",
        "              loss='binary_crossentropy',\n",
        "              metrics=['accuracy'])\n",
        "\n",
        "print(model.summary())\n",
        "\n",
        "# Train the model\n",
        "history = model.fit(X_train, y_train,\n",
        "                    epochs=15, # Train for a few more epochs\n",
        "                    validation_data=(X_test, y_test),\n",
        "                    verbose=2)\n",
        "\n",
        "# Evaluate the Model\n",
        "loss, accuracy = model.evaluate(X_test, y_test)\n",
        "print(f\"\\nAdvanced DNA Embedding Model Accuracy: {accuracy*100:.2f}%\")\n"
      ],
      "metadata": {
        "colab": {
          "base_uri": "https://localhost:8080/",
          "height": 926
        },
        "id": "OHHYvVjlIooD",
        "outputId": "8b6d8dd3-2630-4776-dad5-87dd653b6e53"
      },
      "execution_count": null,
      "outputs": [
        {
          "output_type": "stream",
          "name": "stderr",
          "text": [
            "/usr/local/lib/python3.11/dist-packages/keras/src/layers/core/embedding.py:90: UserWarning: Argument `input_length` is deprecated. Just remove it.\n",
            "  warnings.warn(\n"
          ]
        },
        {
          "output_type": "display_data",
          "data": {
            "text/plain": [
              "\u001b[1mModel: \"sequential_2\"\u001b[0m\n"
            ],
            "text/html": [
              "<pre style=\"white-space:pre;overflow-x:auto;line-height:normal;font-family:Menlo,'DejaVu Sans Mono',consolas,'Courier New',monospace\"><span style=\"font-weight: bold\">Model: \"sequential_2\"</span>\n",
              "</pre>\n"
            ]
          },
          "metadata": {}
        },
        {
          "output_type": "display_data",
          "data": {
            "text/plain": [
              "┏━━━━━━━━━━━━━━━━━━━━━━━━━━━━━━━━━┳━━━━━━━━━━━━━━━━━━━━━━━━┳━━━━━━━━━━━━━━━┓\n",
              "┃\u001b[1m \u001b[0m\u001b[1mLayer (type)                   \u001b[0m\u001b[1m \u001b[0m┃\u001b[1m \u001b[0m\u001b[1mOutput Shape          \u001b[0m\u001b[1m \u001b[0m┃\u001b[1m \u001b[0m\u001b[1m      Param #\u001b[0m\u001b[1m \u001b[0m┃\n",
              "┡━━━━━━━━━━━━━━━━━━━━━━━━━━━━━━━━━╇━━━━━━━━━━━━━━━━━━━━━━━━╇━━━━━━━━━━━━━━━┩\n",
              "│ embedding_2 (\u001b[38;5;33mEmbedding\u001b[0m)         │ ?                      │   \u001b[38;5;34m0\u001b[0m (unbuilt) │\n",
              "├─────────────────────────────────┼────────────────────────┼───────────────┤\n",
              "│ global_average_pooling1d_2      │ ?                      │             \u001b[38;5;34m0\u001b[0m │\n",
              "│ (\u001b[38;5;33mGlobalAveragePooling1D\u001b[0m)        │                        │               │\n",
              "├─────────────────────────────────┼────────────────────────┼───────────────┤\n",
              "│ dense_4 (\u001b[38;5;33mDense\u001b[0m)                 │ ?                      │   \u001b[38;5;34m0\u001b[0m (unbuilt) │\n",
              "├─────────────────────────────────┼────────────────────────┼───────────────┤\n",
              "│ dense_5 (\u001b[38;5;33mDense\u001b[0m)                 │ ?                      │   \u001b[38;5;34m0\u001b[0m (unbuilt) │\n",
              "└─────────────────────────────────┴────────────────────────┴───────────────┘\n"
            ],
            "text/html": [
              "<pre style=\"white-space:pre;overflow-x:auto;line-height:normal;font-family:Menlo,'DejaVu Sans Mono',consolas,'Courier New',monospace\">┏━━━━━━━━━━━━━━━━━━━━━━━━━━━━━━━━━┳━━━━━━━━━━━━━━━━━━━━━━━━┳━━━━━━━━━━━━━━━┓\n",
              "┃<span style=\"font-weight: bold\"> Layer (type)                    </span>┃<span style=\"font-weight: bold\"> Output Shape           </span>┃<span style=\"font-weight: bold\">       Param # </span>┃\n",
              "┡━━━━━━━━━━━━━━━━━━━━━━━━━━━━━━━━━╇━━━━━━━━━━━━━━━━━━━━━━━━╇━━━━━━━━━━━━━━━┩\n",
              "│ embedding_2 (<span style=\"color: #0087ff; text-decoration-color: #0087ff\">Embedding</span>)         │ ?                      │   <span style=\"color: #00af00; text-decoration-color: #00af00\">0</span> (unbuilt) │\n",
              "├─────────────────────────────────┼────────────────────────┼───────────────┤\n",
              "│ global_average_pooling1d_2      │ ?                      │             <span style=\"color: #00af00; text-decoration-color: #00af00\">0</span> │\n",
              "│ (<span style=\"color: #0087ff; text-decoration-color: #0087ff\">GlobalAveragePooling1D</span>)        │                        │               │\n",
              "├─────────────────────────────────┼────────────────────────┼───────────────┤\n",
              "│ dense_4 (<span style=\"color: #0087ff; text-decoration-color: #0087ff\">Dense</span>)                 │ ?                      │   <span style=\"color: #00af00; text-decoration-color: #00af00\">0</span> (unbuilt) │\n",
              "├─────────────────────────────────┼────────────────────────┼───────────────┤\n",
              "│ dense_5 (<span style=\"color: #0087ff; text-decoration-color: #0087ff\">Dense</span>)                 │ ?                      │   <span style=\"color: #00af00; text-decoration-color: #00af00\">0</span> (unbuilt) │\n",
              "└─────────────────────────────────┴────────────────────────┴───────────────┘\n",
              "</pre>\n"
            ]
          },
          "metadata": {}
        },
        {
          "output_type": "display_data",
          "data": {
            "text/plain": [
              "\u001b[1m Total params: \u001b[0m\u001b[38;5;34m0\u001b[0m (0.00 B)\n"
            ],
            "text/html": [
              "<pre style=\"white-space:pre;overflow-x:auto;line-height:normal;font-family:Menlo,'DejaVu Sans Mono',consolas,'Courier New',monospace\"><span style=\"font-weight: bold\"> Total params: </span><span style=\"color: #00af00; text-decoration-color: #00af00\">0</span> (0.00 B)\n",
              "</pre>\n"
            ]
          },
          "metadata": {}
        },
        {
          "output_type": "display_data",
          "data": {
            "text/plain": [
              "\u001b[1m Trainable params: \u001b[0m\u001b[38;5;34m0\u001b[0m (0.00 B)\n"
            ],
            "text/html": [
              "<pre style=\"white-space:pre;overflow-x:auto;line-height:normal;font-family:Menlo,'DejaVu Sans Mono',consolas,'Courier New',monospace\"><span style=\"font-weight: bold\"> Trainable params: </span><span style=\"color: #00af00; text-decoration-color: #00af00\">0</span> (0.00 B)\n",
              "</pre>\n"
            ]
          },
          "metadata": {}
        },
        {
          "output_type": "display_data",
          "data": {
            "text/plain": [
              "\u001b[1m Non-trainable params: \u001b[0m\u001b[38;5;34m0\u001b[0m (0.00 B)\n"
            ],
            "text/html": [
              "<pre style=\"white-space:pre;overflow-x:auto;line-height:normal;font-family:Menlo,'DejaVu Sans Mono',consolas,'Courier New',monospace\"><span style=\"font-weight: bold\"> Non-trainable params: </span><span style=\"color: #00af00; text-decoration-color: #00af00\">0</span> (0.00 B)\n",
              "</pre>\n"
            ]
          },
          "metadata": {}
        },
        {
          "output_type": "stream",
          "name": "stdout",
          "text": [
            "None\n",
            "Epoch 1/15\n",
            "178/178 - 2s - 9ms/step - accuracy: 0.9460 - loss: 0.5206 - val_accuracy: 0.9897 - val_loss: 0.2444\n",
            "Epoch 2/15\n",
            "178/178 - 1s - 5ms/step - accuracy: 0.9981 - loss: 0.1047 - val_accuracy: 1.0000 - val_loss: 0.0428\n",
            "Epoch 3/15\n",
            "178/178 - 1s - 4ms/step - accuracy: 0.9998 - loss: 0.0234 - val_accuracy: 1.0000 - val_loss: 0.0152\n",
            "Epoch 4/15\n",
            "178/178 - 1s - 4ms/step - accuracy: 1.0000 - loss: 0.0094 - val_accuracy: 1.0000 - val_loss: 0.0073\n",
            "Epoch 5/15\n",
            "178/178 - 0s - 3ms/step - accuracy: 1.0000 - loss: 0.0049 - val_accuracy: 1.0000 - val_loss: 0.0043\n",
            "Epoch 6/15\n",
            "178/178 - 1s - 3ms/step - accuracy: 1.0000 - loss: 0.0030 - val_accuracy: 1.0000 - val_loss: 0.0028\n",
            "Epoch 7/15\n",
            "178/178 - 0s - 3ms/step - accuracy: 1.0000 - loss: 0.0020 - val_accuracy: 1.0000 - val_loss: 0.0019\n",
            "Epoch 8/15\n",
            "178/178 - 0s - 3ms/step - accuracy: 1.0000 - loss: 0.0014 - val_accuracy: 1.0000 - val_loss: 0.0014\n",
            "Epoch 9/15\n",
            "178/178 - 1s - 3ms/step - accuracy: 1.0000 - loss: 0.0010 - val_accuracy: 1.0000 - val_loss: 0.0011\n",
            "Epoch 10/15\n",
            "178/178 - 1s - 3ms/step - accuracy: 1.0000 - loss: 7.9004e-04 - val_accuracy: 1.0000 - val_loss: 8.5020e-04\n",
            "Epoch 11/15\n",
            "178/178 - 0s - 2ms/step - accuracy: 1.0000 - loss: 6.1851e-04 - val_accuracy: 1.0000 - val_loss: 6.8327e-04\n",
            "Epoch 12/15\n",
            "178/178 - 1s - 3ms/step - accuracy: 1.0000 - loss: 4.9384e-04 - val_accuracy: 1.0000 - val_loss: 5.6114e-04\n",
            "Epoch 13/15\n",
            "178/178 - 1s - 5ms/step - accuracy: 1.0000 - loss: 4.0143e-04 - val_accuracy: 1.0000 - val_loss: 4.5609e-04\n",
            "Epoch 14/15\n",
            "178/178 - 1s - 3ms/step - accuracy: 1.0000 - loss: 3.2990e-04 - val_accuracy: 1.0000 - val_loss: 3.7936e-04\n",
            "Epoch 15/15\n",
            "178/178 - 1s - 3ms/step - accuracy: 1.0000 - loss: 2.7399e-04 - val_accuracy: 1.0000 - val_loss: 3.2043e-04\n",
            "\u001b[1m77/77\u001b[0m \u001b[32m━━━━━━━━━━━━━━━━━━━━\u001b[0m\u001b[37m\u001b[0m \u001b[1m0s\u001b[0m 1ms/step - accuracy: 1.0000 - loss: 3.5656e-04\n",
            "\n",
            "Advanced DNA Embedding Model Accuracy: 100.00%\n"
          ]
        }
      ]
    }
  ],
  "metadata": {
    "colab": {
      "provenance": []
    },
    "kernelspec": {
      "display_name": "Python 3",
      "name": "python3"
    }
  },
  "nbformat": 4,
  "nbformat_minor": 0
}